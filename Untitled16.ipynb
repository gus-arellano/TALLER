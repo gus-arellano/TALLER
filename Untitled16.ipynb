{
  "nbformat": 4,
  "nbformat_minor": 0,
  "metadata": {
    "colab": {
      "provenance": [],
      "authorship_tag": "ABX9TyOVMIiIHbCAMiFr3Ia3/UKb",
      "include_colab_link": true
    },
    "kernelspec": {
      "name": "python3",
      "display_name": "Python 3"
    },
    "language_info": {
      "name": "python"
    }
  },
  "cells": [
    {
      "cell_type": "markdown",
      "metadata": {
        "id": "view-in-github",
        "colab_type": "text"
      },
      "source": [
        "<a href=\"https://colab.research.google.com/github/gus-arellano/TALLER/blob/main/Untitled16.ipynb\" target=\"_parent\"><img src=\"https://colab.research.google.com/assets/colab-badge.svg\" alt=\"Open In Colab\"/></a>"
      ]
    },
    {
      "cell_type": "code",
      "execution_count": 3,
      "metadata": {
        "colab": {
          "base_uri": "https://localhost:8080/"
        },
        "id": "E44OWzKTekWj",
        "outputId": "12c63c45-34ab-4cff-ef98-0f10a91049f5"
      },
      "outputs": [
        {
          "output_type": "stream",
          "name": "stdout",
          "text": [
            "Hora en Tokio, Japón: 0.00\n",
            "Hora en Pekín, China: 23.00\n",
            "Hora en Dusambé, Tayikistán: 21.00\n",
            "Hora en Perth, Australia: 2.00\n",
            "Hora en Katmandú, Nepal: 21.75\n",
            "Hora en Vilna, Lituania: 17.00\n",
            "Hora en Freetown, Sierra Leona: 16.00\n",
            "Hora en Rio de Janeiro, Brasil: 12.00\n",
            "Hora en Tegucigalpa, Honduras: 9.00\n",
            "Hora en Kingston, Jamaica: 8.00\n",
            "Hora en Los Ángeles, EUA: 8.00\n"
          ]
        }
      ],
      "source": [
        "# Diferencias horarias en horas (respecto a la Ciudad de México)\n",
        "diferencias_horarias = {\n",
        "    'Tokio, Japón': 14,\n",
        "    'Pekín, China': 13,\n",
        "    'Dusambé, Tayikistán': 11,\n",
        "    'Perth, Australia': 16,\n",
        "    'Katmandú, Nepal': 11.75,\n",
        "    'Vilna, Lituania': 7,\n",
        "    'Freetown, Sierra Leona': 6,\n",
        "    'Rio de Janeiro, Brasil': 2,\n",
        "    'Tegucigalpa, Honduras': -1,\n",
        "    'Kingston, Jamaica': -2,\n",
        "    'Los Ángeles, EUA': -2,\n",
        "}\n",
        "\n",
        "# Función para calcular la hora en otras ciudades\n",
        "def calcular_hora(ciudad_mexico, diferencia_horaria):\n",
        "    hora_ciudad = ciudad_mexico + diferencia_horaria\n",
        "    if hora_ciudad < 0:\n",
        "        hora_ciudad += 24\n",
        "    elif hora_ciudad >= 24:\n",
        "        hora_ciudad -= 24\n",
        "    return hora_ciudad\n",
        "\n",
        "# Hora en la Ciudad de México\n",
        "hora_ciudad_mexico = 10\n",
        "\n",
        "# Calcular la hora en cada ciudad\n",
        "horas_en_otras_ciudades = {ciudad: calcular_hora(hora_ciudad_mexico, diferencia) for ciudad, diferencia in diferencias_horarias.items()}\n",
        "\n",
        "# Mostrar las horas en las ciudades\n",
        "for ciudad, hora in horas_en_otras_ciudades.items():\n",
        "    print(f'Hora en {ciudad}: {hora:.2f}')"
      ]
    },
    {
      "cell_type": "code",
      "source": [
        "import random\n",
        "\n",
        "def jugar_piedra_papel_tijeras():\n",
        "    # Opciones del jugador\n",
        "    opciones = [\"piedra\", \"papel\", \"tijeras\"]\n",
        "\n",
        "    # Elección aleatoria de la computadora\n",
        "    computadora = random.choice(opciones)\n",
        "\n",
        "    # Pedir la elección del jugador\n",
        "    jugador = input(\"Elige piedra, papel o tijeras: \").lower()\n",
        "\n",
        "    # Verificar si la elección del jugador es válida\n",
        "    if jugador not in opciones:\n",
        "        return \"Elección no válida. Por favor, elige piedra, papel o tijeras.\"\n",
        "\n",
        "    # Determinar el resultado del juego\n",
        "    if jugador == computadora:\n",
        "        return \"¡Es un empate!\"\n",
        "    elif (jugador == \"piedra\" and computadora == \"tijeras\") or (jugador == \"papel\" and computadora == \"piedra\") or (jugador == \"tijeras\" and computadora == \"papel\"):\n",
        "        return f\"Ganaste. La computadora eligió {computadora}.\"\n",
        "    else:\n",
        "        return f\"Perdiste. La computadora eligió {computadora}.\"\n",
        "\n",
        "# Llamar a la función y mostrar el resultado\n",
        "resultado = jugar_piedra_papel_tijeras()\n",
        "print(resultado)"
      ],
      "metadata": {
        "colab": {
          "base_uri": "https://localhost:8080/"
        },
        "id": "UzTr3Ujyf13E",
        "outputId": "c411adaf-072f-4137-fd90-806edc316262"
      },
      "execution_count": 8,
      "outputs": [
        {
          "output_type": "stream",
          "name": "stdout",
          "text": [
            "Elige piedra, papel o tijeras: papel\n",
            "¡Es un empate!\n"
          ]
        }
      ]
    },
    {
      "cell_type": "code",
      "source": [
        "import random\n",
        "\n",
        "def jugar_dados():\n",
        "    while True:\n",
        "        # Simular el lanzamiento del dado\n",
        "        resultado = random.randint(1, 6)\n",
        "\n",
        "        if resultado == 1:\n",
        "            print(\"¡Salió 1! Vuelve a lanzar.\")\n",
        "        elif resultado == 6:\n",
        "            print(\"¡Salió 6! Quedan empatados.\")\n",
        "            break\n",
        "        elif resultado == 2 or resultado == 3:\n",
        "            print(\"¡Gana Iván!\")\n",
        "            break\n",
        "        elif resultado == 4 or resultado == 5:\n",
        "            print(\"¡Gana Miguel!\")\n",
        "            break\n",
        "\n",
        "# Llamar a la función para jugar\n",
        "jugar_dados()"
      ],
      "metadata": {
        "colab": {
          "base_uri": "https://localhost:8080/"
        },
        "id": "17-irG_hgFdC",
        "outputId": "5312b0f6-4b88-42db-8eec-ed6d9819fff0"
      },
      "execution_count": 26,
      "outputs": [
        {
          "output_type": "stream",
          "name": "stdout",
          "text": [
            "¡Gana Iván!\n"
          ]
        }
      ]
    }
  ]
}