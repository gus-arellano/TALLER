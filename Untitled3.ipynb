{
  "nbformat": 4,
  "nbformat_minor": 0,
  "metadata": {
    "colab": {
      "provenance": [],
      "include_colab_link": true
    },
    "kernelspec": {
      "name": "python3",
      "display_name": "Python 3"
    },
    "language_info": {
      "name": "python"
    }
  },
  "cells": [
    {
      "cell_type": "markdown",
      "metadata": {
        "id": "view-in-github",
        "colab_type": "text"
      },
      "source": [
        "<a href=\"https://colab.research.google.com/github/gus-arellano/TALLER/blob/main/Untitled3.ipynb\" target=\"_parent\"><img src=\"https://colab.research.google.com/assets/colab-badge.svg\" alt=\"Open In Colab\"/></a>"
      ]
    },
    {
      "cell_type": "markdown",
      "source": [
        "# **Universidad Autónoma de México**\n",
        "# Facultad de Ciencias\n",
        "# Taller de herramientas computacionales\n",
        "# Profesor: Miguel Ángel Carillo Lucía\n",
        "#Ayudante: Coss Calderón Jesús Iván\n",
        "# **Tarea/Examen 1**\n",
        "# Integrantes: Cruz Contreras Isari Lyvier, Arellano Sandoval Gustavo Adolfo"
      ],
      "metadata": {
        "id": "s1OxdnfH1E3D"
      }
    },
    {
      "cell_type": "markdown",
      "source": [
        "**EJERCICIO 1: SUMA DE MATRICES RECTANGULARES**"
      ],
      "metadata": {
        "id": "YfVY-IPK1458"
      }
    },
    {
      "cell_type": "code",
      "execution_count": null,
      "metadata": {
        "id": "hljJK0OX0-gH",
        "colab": {
          "base_uri": "https://localhost:8080/"
        },
        "outputId": "80445723-013e-4137-c906-5220dbfc235d"
      },
      "outputs": [
        {
          "output_type": "stream",
          "name": "stdout",
          "text": [
            "11\n",
            "13\n",
            "15\n",
            "17\n",
            "19\n",
            "21\n"
          ]
        }
      ],
      "source": [
        "#Primero definiremos una función, en la cual sus entradas serán dos matrices rectangulares A y B\n",
        "def suma_matrices(A,B):\n",
        "#Después pediremos que vea si las matrices tienen las mismas longitudes\n",
        "  if len(A)==len(B):\n",
        "#Si las matrices tienen las mismas longitudes le pedimos que tome el iésimo elemento de A\n",
        "    for i in range(len(A)):\n",
        "#Después le pedimos que tome un elemento de A[i], que será la lista iésima de la matriz\n",
        "      for h in range(len(A[i])):\n",
        "#Y al finalizar le pedimos que imprima la suma de la matriz entrada por entrada\n",
        "        print(B[i][h]+A[i][h])\n",
        "A = [[1, 2, 3],[4, 5, 6]]\n",
        "B = [[10, 11, 12],[13, 14, 15]]\n",
        "\n",
        "suma_matrices(A,B)"
      ]
    },
    {
      "cell_type": "markdown",
      "source": [
        "EJERCICIO 2: MULTIPLICACIÓN ENTRADA A ENTRADA RECTANGULARES\n"
      ],
      "metadata": {
        "id": "CKnZF5Wno933"
      }
    },
    {
      "cell_type": "code",
      "source": [
        "def multiplicar_matrices(matriz1, matriz2):\n",
        "    # Dimensiones de las matrices\n",
        "    filas_matriz1 = len(matriz1)\n",
        "    columnas_matriz1 = len(matriz1[0])\n",
        "    filas_matriz2 = len(matriz2)\n",
        "    columnas_matriz2 = len(matriz2[0])\n",
        "\n",
        "    # Verificar si son copatibles\n",
        "    if columnas_matriz1 != filas_matriz2:\n",
        "        raise ValueError(\"Las matrices no son compatibles para la multiplicación\")\n",
        "\n",
        "    # Inicializar una matriz de resultado llena de ceros\n",
        "    resultado = [[0 for _ in range(columnas_matriz2)] for _ in range(filas_matriz1)]\n",
        "\n",
        "    # Hacer la multiplicación de matrices\n",
        "    for i in range(filas_matriz1):\n",
        "        for j in range(columnas_matriz2):\n",
        "            for k in range(columnas_matriz1):\n",
        "                resultado[i][j] += matriz1[i][k] * matriz2[k][j]\n",
        "\n",
        "    return resultado\n",
        "\n",
        "# Matrices de ejemplo\n",
        "matriz1 = [\n",
        "    [1, 2, 3],\n",
        "    [4, 5, 6],\n",
        "    [7, 8, 9]\n",
        "]\n",
        "\n",
        "matriz2 = [\n",
        "    [1, 2, 3],\n",
        "    [4, 5, 6],\n",
        "    [7, 8, 9]\n",
        "]\n",
        "\n",
        "# Multiplicar las matrices\n",
        "resultado = multiplicar_matrices(matriz1, matriz2)\n",
        "\n",
        "# Imprimir el resultado\n",
        "for fila in resultado:\n",
        "    print(fila)\n",
        "\n"
      ],
      "metadata": {
        "colab": {
          "base_uri": "https://localhost:8080/"
        },
        "id": "zq3koPcdpbDD",
        "outputId": "8570eac0-546a-480a-d69f-06a7e3046bdb"
      },
      "execution_count": 8,
      "outputs": [
        {
          "output_type": "stream",
          "name": "stdout",
          "text": [
            "[30, 36, 42]\n",
            "[66, 81, 96]\n",
            "[102, 126, 150]\n"
          ]
        }
      ]
    },
    {
      "cell_type": "markdown",
      "source": [
        "**EJERCICIO 3: LA TRAZA DE UNA MATRIZ**"
      ],
      "metadata": {
        "id": "KDrTkrVmMNa5"
      }
    },
    {
      "cell_type": "code",
      "source": [
        "#Primero definiremos una función cuya entrada va a ser una matriz A\n",
        "def traza_matriz(A):\n",
        "#Después definimos B=0 el cual al final será la suma resultante\n",
        "  B=0\n",
        "#Ahora tomamos el elemento iésimo de A\n",
        "  for i in range(len(A)):\n",
        "#Luego de misma forma pero para A[i], que será la lista iésima de la matriz\n",
        "    for j in range(len(A[i])):\n",
        "#Le pedimos que compare si i y j son iguales, para tomar solo los elementos que se van a sumar\n",
        "      if i==j:\n",
        "#Cambiamos B=A[i][j]+B, para que se vaya guardando la suma\n",
        "        B=A[i][j]+B\n",
        "#Le pedimos que nos regrese la suma resultante\n",
        "  print(B)\n",
        "\n",
        "A = [[1, 2, 3],[4, 5, 6],[7, 8, 9]]\n",
        "traza_matriz(A)"
      ],
      "metadata": {
        "colab": {
          "base_uri": "https://localhost:8080/"
        },
        "id": "hR-xLkA8JpDQ",
        "outputId": "a68da35c-f6cf-41a2-a979-3f43827d0113"
      },
      "execution_count": null,
      "outputs": [
        {
          "output_type": "stream",
          "name": "stdout",
          "text": [
            "15\n"
          ]
        }
      ]
    },
    {
      "cell_type": "markdown",
      "source": [
        "EJERCICIO 4: LA TRANSPUESTA\n"
      ],
      "metadata": {
        "id": "rwgBzImyrOgv"
      }
    },
    {
      "cell_type": "code",
      "source": [
        "def matriz_transpuesta(matriz):\n",
        "    # Dimensiones de la matriz\n",
        "    filas = len(matriz)\n",
        "    columnas = len(matriz[0])\n",
        "\n",
        "    # Nueva matriz para la transpuesta cambiando las filas y columnas\n",
        "    transpuesta = [[0 for _ in range(filas)] for _ in range(columnas)]\n",
        "\n",
        "    for i in range(filas):\n",
        "        for j in range(columnas):\n",
        "            transpuesta[j][i] = matriz[i][j]\n",
        "\n",
        "    return transpuesta\n",
        "\n",
        "# Matriz de ejemplo\n",
        "matriz = [\n",
        "    [1, 2, 3],\n",
        "    [4, 5, 6],\n",
        "    [7, 8, 9]\n",
        "]\n",
        "\n",
        "# Calcular la transpuesta\n",
        "transpuesta = matriz_transpuesta(matriz)\n",
        "\n",
        "# Imprimir la matriz transpuesta\n",
        "for fila in transpuesta:\n",
        "    print(fila)\n"
      ],
      "metadata": {
        "colab": {
          "base_uri": "https://localhost:8080/"
        },
        "id": "ZSE1y7AqrWWh",
        "outputId": "d6208d8a-30f3-4cf0-c102-9a23d9c8fd89"
      },
      "execution_count": 9,
      "outputs": [
        {
          "output_type": "stream",
          "name": "stdout",
          "text": [
            "[1, 4, 7]\n",
            "[2, 5, 8]\n",
            "[3, 6, 9]\n"
          ]
        }
      ]
    },
    {
      "cell_type": "markdown",
      "source": [
        "EJERCICIO 5.b: EL MÁXIMO ELEMENTO DE UNA MATRIZ\n",
        "\n",
        "\n",
        "\n"
      ],
      "metadata": {
        "id": "wTYGfwCQr73j"
      }
    },
    {
      "cell_type": "code",
      "source": [
        "def encontrar_maximo(matriz):\n",
        "    if not matriz:\n",
        "        return None\n",
        "    maximo = matriz[0][0]\n",
        "    for fila in matriz:\n",
        "        for elemento in fila:\n",
        "            if elemento > maximo:\n",
        "                maximo = elemento\n",
        "    return maximo\n",
        "# Matriz de ejemplo\n",
        "matriz = [\n",
        "    [1, 2, 3],\n",
        "    [4, 20, 6],\n",
        "    [7, 8, 9]\n",
        "]\n",
        "# Calcular el máximo elemento\n",
        "maximo = encontrar_maximo(matriz)\n",
        "print(\"El máximo elemento de la matriz es:\", maximo)"
      ],
      "metadata": {
        "colab": {
          "base_uri": "https://localhost:8080/"
        },
        "id": "yrae1mmksGZ6",
        "outputId": "f57f0c8a-3dbc-4d5e-b659-8701fcad2e02"
      },
      "execution_count": 11,
      "outputs": [
        {
          "output_type": "stream",
          "name": "stdout",
          "text": [
            "El máximo elemento de la matriz es: 20\n"
          ]
        }
      ]
    },
    {
      "cell_type": "markdown",
      "source": [
        "**EJERCICIO 5.b: EL MÍNIMO ELEMENTO DE UNA MATRIZ**"
      ],
      "metadata": {
        "id": "m7E1GjXJRENo"
      }
    },
    {
      "cell_type": "code",
      "source": [
        "#Primero definimos una función en donde su entrada será una función A\n",
        "def min_matriz(A):\n",
        "#Definimos minimo como un valor ausente para que no tome ningun valor hasta el momento\n",
        "    minimo = float('inf')\n",
        "#Pedimos que tome un elemento iésimo en A\n",
        "    for i in range(len(A)):\n",
        "#Pedimos que tome un j en A[0]\n",
        "        for j in range(len(A[0])):\n",
        "#Comparamos el valor de minimo con todos los números de la matriz\n",
        "            if minimo > A[i][j]:\n",
        "#Vamos sustituyendo \"minimo\" cada vez que encuentra un valor menor que el anterior\n",
        "                minimo = A[i][j]\n",
        "#Imprime el minimo elemento de la matriz\n",
        "    return minimo\n",
        "\n",
        "A = [[4, 2, 3],[4, 5, 1],[7, 8, 9]]\n",
        "min_matriz(A)\n"
      ],
      "metadata": {
        "colab": {
          "base_uri": "https://localhost:8080/"
        },
        "id": "bvGmDjILQ_bT",
        "outputId": "8935370c-7e3e-4ba7-d8b1-c8cb80514393"
      },
      "execution_count": 14,
      "outputs": [
        {
          "output_type": "execute_result",
          "data": {
            "text/plain": [
              "1"
            ]
          },
          "metadata": {},
          "execution_count": 14
        }
      ]
    },
    {
      "cell_type": "markdown",
      "source": [
        "EJERCICIO 6: LA SUMA DEL CUADRADO DE LOS ELEMENTOS DE UNA MATRIZ"
      ],
      "metadata": {
        "id": "bMz-ucnGsha0"
      }
    },
    {
      "cell_type": "code",
      "source": [
        "def suma_cuadrados_matriz(matriz):\n",
        "    suma = 0\n",
        "    for fila in matriz:\n",
        "        for elemento in fila:\n",
        "            suma += elemento ** 2\n",
        "    return suma\n",
        "# Matriz de ej.\n",
        "matriz = [\n",
        "    [1, 2, 3],\n",
        "    [4, 5, 6],\n",
        "    [7, 8, 9]\n",
        "]\n",
        "# Hacer la suma de los cuadrados de los elementos de la matriz\n",
        "resultado = suma_cuadrados_matriz(matriz)\n",
        "# Imprimir el resultado\n",
        "print(\"La suma de los cuadrados de los elementos de la matriz es:\", resultado)\n"
      ],
      "metadata": {
        "colab": {
          "base_uri": "https://localhost:8080/"
        },
        "id": "Z8iQr3B_sp0r",
        "outputId": "ded05d8c-8d77-4c82-9188-efe8b3cae0ae"
      },
      "execution_count": 15,
      "outputs": [
        {
          "output_type": "stream",
          "name": "stdout",
          "text": [
            "La suma de los cuadrados de los elementos de la matriz es: 285\n"
          ]
        }
      ]
    },
    {
      "cell_type": "markdown",
      "source": [
        "**EJERCICIO 7: LA POTENCIA DE MATRICES**"
      ],
      "metadata": {
        "id": "Ek5HshD7N0g7"
      }
    },
    {
      "cell_type": "code",
      "source": [
        "#Definimos una función\n",
        "def potencia_matrices(A,n):#En este caso, las entradas de la función serán A=una matriz y n=el número al que se elevará la matriz.\n",
        "#Pedimos que tome un elemento iésimo de A\n",
        "    for i in range(len(A)):\n",
        "#Ahora pedimos que tome un elemento de la lista iésima de A\n",
        "      for h in range(len(A[i])):\n",
        "#Pedimos que eleve a la potencia n cada entrada de la matriz\n",
        "        print(A[i][h] ** n)\n",
        "\n",
        "potencia_matrices([[1,2,3],[1,2,3]],2)"
      ],
      "metadata": {
        "colab": {
          "base_uri": "https://localhost:8080/"
        },
        "id": "VI25Y3iuBkvk",
        "outputId": "c4a571d8-8df4-47b8-e330-239d15605932"
      },
      "execution_count": null,
      "outputs": [
        {
          "output_type": "stream",
          "name": "stdout",
          "text": [
            "1\n",
            "4\n",
            "9\n",
            "1\n",
            "4\n",
            "9\n"
          ]
        }
      ]
    }
  ]
}