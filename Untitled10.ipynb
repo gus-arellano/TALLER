{
  "nbformat": 4,
  "nbformat_minor": 0,
  "metadata": {
    "colab": {
      "provenance": [],
      "authorship_tag": "ABX9TyOTTzIp7dLgwep7SaDovPLA",
      "include_colab_link": true
    },
    "kernelspec": {
      "name": "python3",
      "display_name": "Python 3"
    },
    "language_info": {
      "name": "python"
    }
  },
  "cells": [
    {
      "cell_type": "markdown",
      "metadata": {
        "id": "view-in-github",
        "colab_type": "text"
      },
      "source": [
        "<a href=\"https://colab.research.google.com/github/gus-arellano/TALLER/blob/main/Untitled10.ipynb\" target=\"_parent\"><img src=\"https://colab.research.google.com/assets/colab-badge.svg\" alt=\"Open In Colab\"/></a>"
      ]
    },
    {
      "cell_type": "code",
      "source": [
        "def funcion_r(x):\n",
        "  return 5 * x\n",
        "\n",
        "print(funcion_r(10))"
      ],
      "metadata": {
        "id": "2ggNRYwQMNM2"
      },
      "execution_count": null,
      "outputs": []
    },
    {
      "cell_type": "code",
      "source": [
        "x = lambda a : a + 10\n",
        "print(x(5))"
      ],
      "metadata": {
        "id": "laqI7LlNMNEZ"
      },
      "execution_count": null,
      "outputs": []
    },
    {
      "cell_type": "code",
      "source": [
        "x = lambda Phil, Malcom, Junior : Phil+Malcom+Junior\n",
        "print(x(10, 3, 2))"
      ],
      "metadata": {
        "id": "-D4p1fdSMM5A"
      },
      "execution_count": null,
      "outputs": []
    },
    {
      "cell_type": "code",
      "source": [
        "def func(r):\n",
        "  return lambda a: a*r\n",
        "Double= func(2)\n",
        "Triple=func(3)\n",
        "print(Double(10))\n",
        "print(Triple(7))"
      ],
      "metadata": {
        "id": "dQc9zDDNMSHU"
      },
      "execution_count": null,
      "outputs": []
    },
    {
      "cell_type": "code",
      "execution_count": 1,
      "metadata": {
        "colab": {
          "base_uri": "https://localhost:8080/"
        },
        "id": "ALeXqwpiBe5G",
        "outputId": "b04ac49b-c525-4a81-c1a1-168f15ac1215"
      },
      "outputs": [
        {
          "output_type": "stream",
          "name": "stdout",
          "text": [
            "[2, 4, 6, 8, 10, 12, 14, 16, 18, 20, 22, 24, 26, 28, 30, 32, 34, 36, 38, 40, 42, 44, 46, 48, 50, 52, 54, 56, 58, 60, 62, 64, 66, 68, 70, 72, 74, 76, 78, 80, 82, 84, 86, 88, 90, 92, 94, 96, 98, 100]\n"
          ]
        }
      ],
      "source": [
        "# Crear una lista de números del 1 al 100\n",
        "numeros = list(range(1, 101))\n",
        "\n",
        "# Usar filter con una función lambda para filtrar los números pares\n",
        "numeros_pares = list(filter(lambda x: x % 2 == 0, numeros))\n",
        "\n",
        "# Imprimir la lista de números pares\n",
        "print(numeros_pares)\n"
      ]
    },
    {
      "cell_type": "code",
      "source": [
        "def cifrado(texto, desplazamiento):\n",
        "    return ''.join([chr(ord(c) + desplazamiento) if c.isalpha() else c for c in texto])\n",
        "\n",
        "texto_original = \"Hola, mundo!\"\n",
        "desplazamiento = 3\n",
        "texto_encriptado = cifrado(texto_original, desplazamiento)\n",
        "print(texto_encriptado)\n"
      ],
      "metadata": {
        "colab": {
          "base_uri": "https://localhost:8080/"
        },
        "id": "tfaQLEgGOVYX",
        "outputId": "a4960421-3855-4c02-d55f-5721ea9cbe13"
      },
      "execution_count": 10,
      "outputs": [
        {
          "output_type": "stream",
          "name": "stdout",
          "text": [
            "Krod, pxqgr!\n"
          ]
        }
      ]
    }
  ]
}