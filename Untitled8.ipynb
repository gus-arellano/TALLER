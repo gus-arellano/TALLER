{
  "nbformat": 4,
  "nbformat_minor": 0,
  "metadata": {
    "colab": {
      "provenance": [],
      "authorship_tag": "ABX9TyMtG896yAwxPoJts8czCZ2V",
      "include_colab_link": true
    },
    "kernelspec": {
      "name": "python3",
      "display_name": "Python 3"
    },
    "language_info": {
      "name": "python"
    }
  },
  "cells": [
    {
      "cell_type": "markdown",
      "metadata": {
        "id": "view-in-github",
        "colab_type": "text"
      },
      "source": [
        "<a href=\"https://colab.research.google.com/github/gus-arellano/TALLER/blob/main/Untitled8.ipynb\" target=\"_parent\"><img src=\"https://colab.research.google.com/assets/colab-badge.svg\" alt=\"Open In Colab\"/></a>"
      ]
    },
    {
      "cell_type": "code",
      "execution_count": 1,
      "metadata": {
        "colab": {
          "base_uri": "https://localhost:8080/"
        },
        "id": "DooY1CyAwQGy",
        "outputId": "76655bc2-63f5-4f48-995a-422aac7099d0"
      },
      "outputs": [
        {
          "output_type": "stream",
          "name": "stdout",
          "text": [
            "{'brand': 'Ford', 'model': 'Mustang', 'year': '2020'}\n"
          ]
        }
      ],
      "source": [
        "thisdict= {\n",
        "    \"brand\": \"Ford\",\n",
        "    \"model\": \"Mustang\",\n",
        "    \"year\": \"1964\",\n",
        "    \"year\": \"2020\"\n",
        "}\n",
        "print(thisdict)"
      ]
    },
    {
      "cell_type": "code",
      "source": [
        "diccionario = {'python': 2.7, 'zope': 2.13, 'plone': 5.7}\n",
        "\n",
        "l=[]\n",
        "for i in diccionario.keys():\n",
        "    l.append(diccionario[i])\n",
        "\n",
        "print(l)"
      ],
      "metadata": {
        "colab": {
          "base_uri": "https://localhost:8080/"
        },
        "id": "UlFGUBITw2Ri",
        "outputId": "3391bc53-3848-416d-e4de-ead25a56cbf0"
      },
      "execution_count": 3,
      "outputs": [
        {
          "output_type": "stream",
          "name": "stdout",
          "text": [
            "[2.7, 2.13, 5.7]\n"
          ]
        }
      ]
    },
    {
      "cell_type": "code",
      "source": [
        "import pandas as pd\n",
        "\n",
        "#Crear un diccionario con datos\n",
        "datos = {\n",
        "    'Nombre': ['Juan', 'María', 'Pedro', 'Luisa'],\n",
        "    'Edad': [25, 28, 22, 30],\n",
        "    'Ciudad': ['Madrid', 'Barcelona', 'Valencia', 'Sevilla']\n",
        "}\n",
        "#Crear un DataFrame a partir del diccionario\n",
        "dataframe = pd. DataFrame(datos)\n",
        "#Mostrar el DataFrame\n",
        "print(dataframe)"
      ],
      "metadata": {
        "colab": {
          "base_uri": "https://localhost:8080/"
        },
        "id": "JzAgNFE7x2BT",
        "outputId": "724ea96f-ec38-4dad-ebf3-6c6d709f0898"
      },
      "execution_count": 5,
      "outputs": [
        {
          "output_type": "stream",
          "name": "stdout",
          "text": [
            "  Nombre  Edad     Ciudad\n",
            "0   Juan    25     Madrid\n",
            "1  María    28  Barcelona\n",
            "2  Pedro    22   Valencia\n",
            "3  Luisa    30    Sevilla\n"
          ]
        }
      ]
    },
    {
      "cell_type": "code",
      "source": [
        "frutas = (\"banana\",\"apple\", \"cherry\", \"manzana\")\n",
        "for fruta in frutas:\n",
        "    print(fruta)\n",
        "if 'manzana' in frutas:\n",
        "    print('Sí, la manzana está en la tupla.')"
      ],
      "metadata": {
        "colab": {
          "base_uri": "https://localhost:8080/"
        },
        "id": "6IdFAnovzou_",
        "outputId": "b5371d69-7fe1-4504-eb29-4360b768e230"
      },
      "execution_count": 10,
      "outputs": [
        {
          "output_type": "stream",
          "name": "stdout",
          "text": [
            "banana\n",
            "apple\n",
            "cherry\n",
            "manzana\n",
            "Sí, la manzana está en la tupla.\n"
          ]
        }
      ]
    },
    {
      "cell_type": "code",
      "source": [
        "def mi_función():\n",
        "  print(\"hola, te saludo desde la función\")\n",
        "mi_función()"
      ],
      "metadata": {
        "colab": {
          "base_uri": "https://localhost:8080/"
        },
        "id": "ziyqESRh1XEj",
        "outputId": "856978fe-658c-4db0-bdd2-2b24b7c126ce"
      },
      "execution_count": 24,
      "outputs": [
        {
          "output_type": "stream",
          "name": "stdout",
          "text": [
            "hola, te saludo desde la función\n"
          ]
        }
      ]
    },
    {
      "cell_type": "code",
      "source": [
        "def mi_funcion_nueva(fname):\n",
        "    print(\"Hola\"+fname +\" te saludo desde la funcion\")\n",
        "\n",
        "mi_funcion_nueva(\" Gustavo\")"
      ],
      "metadata": {
        "colab": {
          "base_uri": "https://localhost:8080/"
        },
        "id": "BEKKjLVc3E52",
        "outputId": "2b0431da-a1af-4240-ab47-79347d5120c5"
      },
      "execution_count": 26,
      "outputs": [
        {
          "output_type": "stream",
          "name": "stdout",
          "text": [
            "Hola Gustavo te saludo desde la funcion\n"
          ]
        }
      ]
    },
    {
      "cell_type": "code",
      "source": [
        "def Nombre(fname,lname):\n",
        "    print(\"Hola\"+fname + \" \" + lname+\" te saludo desde la funcion\")\n",
        "\n",
        "Nombre(\" Gustavo\", \"CC\")"
      ],
      "metadata": {
        "colab": {
          "base_uri": "https://localhost:8080/"
        },
        "id": "g-0FfGch4Xj-",
        "outputId": "451b5d57-1b1e-49cf-bbc2-c8f09a4b196f"
      },
      "execution_count": 29,
      "outputs": [
        {
          "output_type": "stream",
          "name": "stdout",
          "text": [
            "Hola Gustavo CC te saludo desde la funcion\n"
          ]
        }
      ]
    },
    {
      "cell_type": "code",
      "source": [
        "def mi_funcion(*kids):\n",
        "    print(\"El niño menor es \" + kids[0])\n",
        "\n",
        "mi_funcion(\"Emil\", \"Tobias\", \"Linus\")"
      ],
      "metadata": {
        "colab": {
          "base_uri": "https://localhost:8080/"
        },
        "id": "sIKZLa-i4v0N",
        "outputId": "8e6a95fb-9f93-487e-f08e-efa81b9cf473"
      },
      "execution_count": 31,
      "outputs": [
        {
          "output_type": "stream",
          "name": "stdout",
          "text": [
            "El niño menor es Emil\n"
          ]
        }
      ]
    },
    {
      "cell_type": "code",
      "source": [
        "def suma_matrices(matriz1, matriz2):\n",
        "    # Verificar si las matrices tienen las mismas dimensiones\n",
        "    if len(matriz1) != len(matriz2) or len(matriz1[0]) != len(matriz2[0]):\n",
        "        return \"Las matrices no tienen las mismas dimensiones.\"\n",
        "\n",
        "    # Crear una matriz vacía para almacenar el resultado\n",
        "    resultado = []\n",
        "\n",
        "    for i in range(len(matriz1)):\n",
        "        fila_resultado = []\n",
        "        for j in range(len(matriz1[0])):\n",
        "            suma_elemento = matriz1[i][j] + matriz2[i][j]\n",
        "            fila_resultado.append(suma_elemento)\n",
        "        resultado.append(fila_resultado)\n",
        "\n",
        "    return resultado\n",
        "\n",
        "# Ejemplo de uso\n",
        "matriz1 = [[1, 2, 3], [4, 5, 6], [7, 8, 9]]\n",
        "matriz2 = [[9, 8, 7], [6, 5, 4], [3, 2, 1]]\n",
        "\n",
        "resultado = suma_matrices(matriz1, matriz2)\n",
        "\n",
        "if type(resultado) == list:\n",
        "    for fila in resultado:\n",
        "        print(fila)\n",
        "else:\n",
        "    print(resultado)\n"
      ],
      "metadata": {
        "colab": {
          "base_uri": "https://localhost:8080/"
        },
        "id": "bKZqj_az67XZ",
        "outputId": "d87318bf-03be-4f26-fb5f-6700ac2225d0"
      },
      "execution_count": 42,
      "outputs": [
        {
          "output_type": "stream",
          "name": "stdout",
          "text": [
            "[10, 10, 10]\n",
            "[10, 10, 10]\n",
            "[10, 10, 10]\n"
          ]
        }
      ]
    }
  ]
}