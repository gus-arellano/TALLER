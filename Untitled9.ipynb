{
  "nbformat": 4,
  "nbformat_minor": 0,
  "metadata": {
    "colab": {
      "provenance": [],
      "authorship_tag": "ABX9TyOMuv+BsmgEK8anZ7XVLjK+",
      "include_colab_link": true
    },
    "kernelspec": {
      "name": "python3",
      "display_name": "Python 3"
    },
    "language_info": {
      "name": "python"
    }
  },
  "cells": [
    {
      "cell_type": "markdown",
      "metadata": {
        "id": "view-in-github",
        "colab_type": "text"
      },
      "source": [
        "<a href=\"https://colab.research.google.com/github/gus-arellano/TALLER/blob/main/Untitled9.ipynb\" target=\"_parent\"><img src=\"https://colab.research.google.com/assets/colab-badge.svg\" alt=\"Open In Colab\"/></a>"
      ]
    },
    {
      "cell_type": "code",
      "source": [
        "Tarea #6 : Nombre de la tarea Dado dos vectores, calcular: el Producto de los vectores, la potencia de cada vector (n=3) y el producto escalar.\n",
        "Integrantes ( orden alfabetico ):\n",
        "Arellano Sandoval (AS)\n",
        "Nombre del programa : computation . ipynb"
      ],
      "metadata": {
        "id": "UxMBSCVeUPKT"
      },
      "execution_count": null,
      "outputs": []
    },
    {
      "cell_type": "code",
      "execution_count": null,
      "metadata": {
        "id": "kLMoZtLRTqQ_"
      },
      "outputs": [],
      "source": [
        "def producto_escalar(vector1, vector2):\n",
        "    # Verificar si los vectores tienen la misma longitud\n",
        "    if len(vector1) != len(vector2):\n",
        "        return \"Los vectores deben tener la misma longitud para calcular el producto escalar.\"\n",
        "\n",
        "    # Realizar el producto escalar\n",
        "    resultado = 0\n",
        "    for i in range(len(vector1)):\n",
        "        resultado += vector1[i] * vector2[i]\n",
        "\n",
        "    return resultado\n",
        "\n",
        "# Ejemplo de uso\n",
        "vector1 = [1, 2, 3]\n",
        "vector2 = [4, 5, 6]\n",
        "\n",
        "producto = producto_escalar(vector1, vector2)\n",
        "\n",
        "if type(producto) == int:\n",
        "    print(\"El producto escalar de los vectores es:\", producto)\n",
        "else:\n",
        "    print(producto)\n"
      ]
    },
    {
      "cell_type": "code",
      "source": [
        "def potencia_vector(vector1, vector2):\n",
        "    # Verificar si ambos vectores tienen la misma longitud\n",
        "    if len(vector1) != len(vector2):\n",
        "        return \"Los vectores no tienen la misma longitud.\"\n",
        "\n",
        "    # Elevar al cubo cada elemento de ambos vectores\n",
        "    resultado_vector1 = [elemento ** 3 for elemento in vector1]\n",
        "    resultado_vector2 = [elemento ** 3 for elemento in vector2]\n",
        "\n",
        "    return resultado_vector1, resultado_vector2\n",
        "\n",
        "# Ejemplo de uso\n",
        "vector1 = [1, 2, 3]\n",
        "vector2 = [4, 5, 6]\n",
        "\n",
        "resultados = potencia_vector(vector1, vector2)\n",
        "\n",
        "if type(resultados) == tuple:\n",
        "    resultado_vector1, resultado_vector2 = resultados\n",
        "    print(\"Potencia del vector 1:\", resultado_vector1)\n",
        "    print(\"Potencia del vector 2:\", resultado_vector2)\n",
        "else:\n",
        "    print(resultados)\n"
      ],
      "metadata": {
        "id": "z4wYfVZBTyJ6"
      },
      "execution_count": null,
      "outputs": []
    },
    {
      "cell_type": "code",
      "source": [
        "def producto_escalar(v1, v2):\n",
        "    # Verificar si los vectores tienen la misma longitud\n",
        "    if len(v1) != len(v2):\n",
        "        return \"Los vectores no tienen la misma longitud.\"\n",
        "\n",
        "    # Calcular el producto escalar\n",
        "    resultado = sum(x * y for x, y in zip(v1, v2))\n",
        "    return resultado\n",
        "\n",
        "# Ejemplo de uso\n",
        "vector1 = [1, 2, 3]\n",
        "vector2 = [4, 5, 6]\n",
        "\n",
        "resultado = producto_escalar(vector1, vector2)\n",
        "\n",
        "if type(resultado) == int:\n",
        "    print(f\"El producto escalar de {vector1} y {vector2} es: {resultado}\")\n",
        "else:\n",
        "    print(resultado)\n"
      ],
      "metadata": {
        "id": "Jo5j-UEgT6Is"
      },
      "execution_count": null,
      "outputs": []
    }
  ]
}