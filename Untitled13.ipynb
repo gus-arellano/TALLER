{
  "nbformat": 4,
  "nbformat_minor": 0,
  "metadata": {
    "colab": {
      "provenance": [],
      "authorship_tag": "ABX9TyPW21VednUNOm1EKrviDxrP",
      "include_colab_link": true
    },
    "kernelspec": {
      "name": "python3",
      "display_name": "Python 3"
    },
    "language_info": {
      "name": "python"
    }
  },
  "cells": [
    {
      "cell_type": "markdown",
      "metadata": {
        "id": "view-in-github",
        "colab_type": "text"
      },
      "source": [
        "<a href=\"https://colab.research.google.com/github/gus-arellano/TALLER/blob/main/Untitled13.ipynb\" target=\"_parent\"><img src=\"https://colab.research.google.com/assets/colab-badge.svg\" alt=\"Open In Colab\"/></a>"
      ]
    },
    {
      "cell_type": "code",
      "execution_count": 4,
      "metadata": {
        "colab": {
          "base_uri": "https://localhost:8080/"
        },
        "id": "cqwQ968IDxfb",
        "outputId": "17afd382-90c7-46ec-d0d7-1dad56ac88c1"
      },
      "outputs": [
        {
          "output_type": "stream",
          "name": "stdout",
          "text": [
            "[1 2 3 4 5]\n",
            "<class 'numpy.ndarray'>\n",
            "[1 2 3 4 5]\n",
            "<class 'numpy.ndarray'>\n"
          ]
        }
      ],
      "source": [
        "import numpy as np\n",
        "arr = np.array([1, 2, 3, 4, 5])\n",
        "print(arr)\n",
        "print(type(arr))\n",
        "\n",
        "\n",
        "import numpy as np\n",
        "arr = np.array((1, 2, 3, 4, 5))\n",
        "print(arr)\n",
        "print(type(arr))\n"
      ]
    },
    {
      "cell_type": "code",
      "source": [
        "arr = np.array(42)\n",
        "print(arr)"
      ],
      "metadata": {
        "colab": {
          "base_uri": "https://localhost:8080/"
        },
        "id": "1sO0aMT4EnCG",
        "outputId": "3c769c2d-9a05-4257-c399-6d44057121b2"
      },
      "execution_count": 5,
      "outputs": [
        {
          "output_type": "stream",
          "name": "stdout",
          "text": [
            "42\n"
          ]
        }
      ]
    },
    {
      "cell_type": "code",
      "source": [
        "arr = np.array([[1, 2, 3],[4, 5, 6]])\n",
        "print(arr)"
      ],
      "metadata": {
        "colab": {
          "base_uri": "https://localhost:8080/"
        },
        "id": "z_lY0TixFG-g",
        "outputId": "cefe3db6-1b73-4aa5-a92b-0748e217bb6d"
      },
      "execution_count": 10,
      "outputs": [
        {
          "output_type": "stream",
          "name": "stdout",
          "text": [
            "[[1 2 3]\n",
            " [4 5 6]]\n"
          ]
        }
      ]
    },
    {
      "cell_type": "code",
      "source": [
        "arr = np.array([[[1, 2, 3],[4, 5, 6]], [[1, 2, 3], [4, 5, 6]]])\n",
        "print(arr)"
      ],
      "metadata": {
        "colab": {
          "base_uri": "https://localhost:8080/"
        },
        "id": "ItfK9c0nFrFh",
        "outputId": "0bb7f564-beec-4f66-9138-b5134c597226"
      },
      "execution_count": 14,
      "outputs": [
        {
          "output_type": "stream",
          "name": "stdout",
          "text": [
            "[[[1 2 3]\n",
            "  [4 5 6]]\n",
            "\n",
            " [[1 2 3]\n",
            "  [4 5 6]]]\n"
          ]
        }
      ]
    },
    {
      "cell_type": "code",
      "source": [
        "arr = np.array([1, 2, 3, 4])\n",
        "print(arr[0])"
      ],
      "metadata": {
        "colab": {
          "base_uri": "https://localhost:8080/"
        },
        "id": "iT-wLXLFIgN9",
        "outputId": "f0cfed44-97ce-4cbc-90ec-1f2830a778a2"
      },
      "execution_count": 15,
      "outputs": [
        {
          "output_type": "stream",
          "name": "stdout",
          "text": [
            "1\n"
          ]
        }
      ]
    },
    {
      "cell_type": "code",
      "source": [
        "# usando listas:\n",
        "matriz = [[1, 2, 3],\n",
        "          [4, 5, 6],\n",
        "          [7, 8, 9]]\n",
        "suma = 0\n",
        "for fila in matriz:\n",
        "    suma += sum(fila)\n",
        "print(suma)"
      ],
      "metadata": {
        "colab": {
          "base_uri": "https://localhost:8080/"
        },
        "id": "1OGVohJtJ4SZ",
        "outputId": "8763e05c-16b3-4778-870f-864637a1db46"
      },
      "execution_count": 16,
      "outputs": [
        {
          "output_type": "stream",
          "name": "stdout",
          "text": [
            "45\n"
          ]
        }
      ]
    },
    {
      "cell_type": "code",
      "source": [
        "# usando numpy:\n",
        "import numpy as np\n",
        "matriz = np.array([[1, 2, 3],\n",
        "                  [4, 5, 6],\n",
        "                  [7, 8, 9]])\n",
        "suma = np.sum(matriz)\n",
        "print(suma)"
      ],
      "metadata": {
        "colab": {
          "base_uri": "https://localhost:8080/"
        },
        "id": "L7bc397GKf9z",
        "outputId": "f436d0d4-e140-41ff-d28b-fb3ef7e90488"
      },
      "execution_count": 17,
      "outputs": [
        {
          "output_type": "stream",
          "name": "stdout",
          "text": [
            "45\n"
          ]
        }
      ]
    },
    {
      "cell_type": "code",
      "source": [
        "import numpy as np\n",
        "# Definir dos matrices de 3x3\n",
        "matriz1 = np.array([[1, 1, 1],\n",
        "                   [1, 1, 1],\n",
        "                   [1, 1, 1]])\n",
        "\n",
        "matriz2 = np.array([[1, 1, 1],\n",
        "                   [1, 1, 1],\n",
        "                   [1, 1, 1]])\n",
        "# Realizar el producto escalar por renglones\n",
        "resultado = np.sum(matriz1 * matriz2, axis=1)\n",
        "# Mostrar el resultado\n",
        "print(resultado)"
      ],
      "metadata": {
        "colab": {
          "base_uri": "https://localhost:8080/"
        },
        "id": "WrT6e-cFM_wq",
        "outputId": "9fa40b1f-6531-4ba0-f7b7-65ba7d84c319"
      },
      "execution_count": 22,
      "outputs": [
        {
          "output_type": "stream",
          "name": "stdout",
          "text": [
            "[3 3 3]\n"
          ]
        }
      ]
    },
    {
      "cell_type": "code",
      "source": [
        "# Definir dos matrices 3x3\n",
        "matrix1 = [\n",
        "    [1, 1, 1],\n",
        "    [1, 1, 1],\n",
        "    [1, 1, 1]\n",
        "]\n",
        "matrix2 = [\n",
        "    [1, 1, 1],\n",
        "    [1, 1, 1],\n",
        "    [1, 1, 1]\n",
        "]\n",
        "# Inicializar una matriz resultado 1x3 con ceros\n",
        "result = [0, 0, 0]\n",
        "# Realizar el producto escalar por columnas\n",
        "for i in range(3):\n",
        "    for j in range(3):\n",
        "        result[i] += matrix1[j][i] * matrix2[j][i]\n",
        "# Imprimir el resultado\n",
        "print(result)"
      ],
      "metadata": {
        "colab": {
          "base_uri": "https://localhost:8080/"
        },
        "id": "nBy0LJg1NRMl",
        "outputId": "7ec54dd5-b411-466c-ea2e-bc036346cf5e"
      },
      "execution_count": 25,
      "outputs": [
        {
          "output_type": "stream",
          "name": "stdout",
          "text": [
            "[3, 3, 3]\n"
          ]
        }
      ]
    },
    {
      "cell_type": "code",
      "source": [
        "A=[[1,1,1],[1,1,1],[1,1, 1]]\n",
        "suma=0.0\n",
        "for i in range(len(A)):\n",
        "  for j in range(len(A)):\n",
        "      suma=suma+A[i][j]\n",
        "print(f\"la suma es {suma}\")"
      ],
      "metadata": {
        "colab": {
          "base_uri": "https://localhost:8080/"
        },
        "id": "P78cjXZpU77N",
        "outputId": "e55ce8c4-a649-402e-c188-66605118ecc5"
      },
      "execution_count": 28,
      "outputs": [
        {
          "output_type": "stream",
          "name": "stdout",
          "text": [
            "la suma es 9.0\n"
          ]
        }
      ]
    },
    {
      "cell_type": "code",
      "source": [
        "def ProdPunto(a,b):\n",
        "  #para listas producto punto\n",
        "  PP=0.0\n",
        "  for i in range(lane(a)):\n",
        "    PP=PP+a[i]*b[i]\n",
        "  return PP"
      ],
      "metadata": {
        "id": "LkvTWjwPWT-P"
      },
      "execution_count": 29,
      "outputs": []
    },
    {
      "cell_type": "code",
      "source": [
        "import numpy as np\n",
        "# Define la función ProdPunto\n",
        "def ProdPunto(arr1, arr2):\n",
        "    return np.dot(arr1, arr2)\n",
        "arr2 = np.array([[1, 1, 1], [1, 1, 1], [1, 1, 1]])\n",
        "arr3 = np.array([[1, 1, 1], [1, 1, 1], [1, 1, 1]])\n",
        "Pp_por_reng = np.array([0, 0, 0])\n",
        "Pp_por_col = np.array([0, 0, 0])\n",
        "for i in range(len(arr2)):\n",
        "    Pp_por_reng[i] = ProdPunto(arr2[i], arr3[i])\n",
        "Pp_por_reng\n"
      ],
      "metadata": {
        "colab": {
          "base_uri": "https://localhost:8080/"
        },
        "id": "ZBnSmS6VWxUi",
        "outputId": "ec95772c-9d3c-4d3e-d18c-893da807d7d0"
      },
      "execution_count": 37,
      "outputs": [
        {
          "output_type": "execute_result",
          "data": {
            "text/plain": [
              "array([3, 3, 3])"
            ]
          },
          "metadata": {},
          "execution_count": 37
        }
      ]
    },
    {
      "cell_type": "code",
      "source": [
        "import numpy as np\n",
        "# Define la función AgarraCol para extraer una columna de una matriz\n",
        "def AgarraCol(a, col):\n",
        "    nuevo = []\n",
        "    for i in range(len(a)):\n",
        "        nuevo.append(a[i, col])\n",
        "\n",
        "    return np.array(nuevo)\n",
        "# Definir la función ProdPunto\n",
        "def ProdPunto(arr1, arr2):\n",
        "    return np.dot(arr1, arr2)\n",
        "arr2 = np.array([[1, 1, 1], [1, 1, 1], [1, 1, 1]])\n",
        "arr3 = np.array([[1, 1, 1], [1, 1, 1], [1, 1, 1]])\n",
        "Pp_por_col = np.array([0, 0, 0])\n",
        "for i in range(len(arr2)):\n",
        "    col1 = AgarraCol(arr2, i)\n",
        "    col2 = AgarraCol(arr3, i)\n",
        "    Pp_por_col[i] = ProdPunto(col1, col2)\n",
        "Pp_por_col\n"
      ],
      "metadata": {
        "colab": {
          "base_uri": "https://localhost:8080/"
        },
        "id": "dFUTNsArY4o4",
        "outputId": "1f4d39e2-fc9a-4ba0-af4c-78de004a24ee"
      },
      "execution_count": 43,
      "outputs": [
        {
          "output_type": "execute_result",
          "data": {
            "text/plain": [
              "array([3, 3, 3])"
            ]
          },
          "metadata": {},
          "execution_count": 43
        }
      ]
    }
  ]
}