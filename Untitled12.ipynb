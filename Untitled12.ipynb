{
  "nbformat": 4,
  "nbformat_minor": 0,
  "metadata": {
    "colab": {
      "provenance": [],
      "authorship_tag": "ABX9TyPH6BY07li81MSvVhbxIZW9",
      "include_colab_link": true
    },
    "kernelspec": {
      "name": "python3",
      "display_name": "Python 3"
    },
    "language_info": {
      "name": "python"
    }
  },
  "cells": [
    {
      "cell_type": "markdown",
      "metadata": {
        "id": "view-in-github",
        "colab_type": "text"
      },
      "source": [
        "<a href=\"https://colab.research.google.com/github/gus-arellano/TALLER/blob/main/Untitled12.ipynb\" target=\"_parent\"><img src=\"https://colab.research.google.com/assets/colab-badge.svg\" alt=\"Open In Colab\"/></a>"
      ]
    },
    {
      "cell_type": "code",
      "execution_count": 1,
      "metadata": {
        "colab": {
          "base_uri": "https://localhost:8080/"
        },
        "id": "Ff1MdRd3HFWP",
        "outputId": "d311b7f8-1ecf-4465-d162-f35bc18ce1fb"
      },
      "outputs": [
        {
          "output_type": "stream",
          "name": "stdout",
          "text": [
            "5.830951894845301\n"
          ]
        }
      ],
      "source": [
        "#Distancia ente dos puntos (ingresar como tuplas)\n",
        "import math\n",
        "p=[2,7]\n",
        "q=[5,2]\n",
        "print(math.dist(p,q))"
      ]
    },
    {
      "cell_type": "code",
      "source": [
        "#Aleatoriedad de numeros\n",
        "import random\n",
        "\"\"\"La semilla (seed) sirve para fijar una base donde los numeros generen una misma sucesion\"\"\"\n",
        "random.seed(5)\n",
        "print(random.random())"
      ],
      "metadata": {
        "colab": {
          "base_uri": "https://localhost:8080/"
        },
        "id": "Cageup6nHMgQ",
        "outputId": "29238601-8149-47ce-de4d-6fab910a3d09"
      },
      "execution_count": 8,
      "outputs": [
        {
          "output_type": "stream",
          "name": "stdout",
          "text": [
            "0.6229016948897019\n"
          ]
        }
      ]
    },
    {
      "cell_type": "code",
      "source": [
        "#\n",
        "import random\n",
        "\n",
        "print(random.randint(2, 8))\n"
      ],
      "metadata": {
        "colab": {
          "base_uri": "https://localhost:8080/"
        },
        "id": "41T_P8JxHWf7",
        "outputId": "045eed7d-4d76-46c8-cf79-3370aaf23502"
      },
      "execution_count": 9,
      "outputs": [
        {
          "output_type": "stream",
          "name": "stdout",
          "text": [
            "6\n"
          ]
        }
      ]
    },
    {
      "cell_type": "code",
      "source": [
        "import random\n",
        "\n",
        "Ganador_NBA = [\"Lakers\", \"Bulls\", \"Raptors\"]\n",
        "\n",
        "print(random.choice(Ganador_NBA))"
      ],
      "metadata": {
        "colab": {
          "base_uri": "https://localhost:8080/"
        },
        "id": "-95Huqt9Hac2",
        "outputId": "55dbabeb-8fca-450b-dd51-061674d42ba0"
      },
      "execution_count": 10,
      "outputs": [
        {
          "output_type": "stream",
          "name": "stdout",
          "text": [
            "Raptors\n"
          ]
        }
      ]
    },
    {
      "cell_type": "code",
      "source": [
        "#SUMA DE MATRICES\n",
        "A=[[1,2,3],[4,5,6],[7,8,9]]\n",
        "B=[[8,5,1],[6,3,7],[4,1,4]]\n",
        "for i in range (len(A)):\n",
        "  print(A[2][i])"
      ],
      "metadata": {
        "id": "UhMj8687HvI_"
      },
      "execution_count": null,
      "outputs": []
    },
    {
      "cell_type": "code",
      "source": [
        "A=[[1,2,3],[4,5,6],[7,8,9]]\n",
        "B=[[8,5,1],[6,3,7],[4,1,4]]\n",
        "for i in range (len(A)):\n",
        "  print(A[i][1])"
      ],
      "metadata": {
        "id": "hNkO2SE_Hwon"
      },
      "execution_count": null,
      "outputs": []
    },
    {
      "cell_type": "code",
      "source": [
        "A=[[1,2,3],[4,5,6],[7,8,9]]\n",
        "B=[[8,5,1],[6,3,7],[4,1,4]]\n",
        "for i in range (len(A)):\n",
        "   for j in range(len(A)):\n",
        "     print(A[i][j])"
      ],
      "metadata": {
        "id": "GCmhWu2-Hz8o"
      },
      "execution_count": null,
      "outputs": []
    },
    {
      "cell_type": "code",
      "source": [
        "A=[[1,2,3],[4,5,6],[7,8,9]]\n",
        "B=[[8,5,1],[6,3,7],[4,1,4]]\n",
        "for i in range (len(A)):\n",
        "   for j in range(len(A)):\n",
        "     print(A[j][i])"
      ],
      "metadata": {
        "id": "_e_LHEVCH16G"
      },
      "execution_count": null,
      "outputs": []
    },
    {
      "cell_type": "code",
      "source": [
        "l=[5,4,3,2,1]\n",
        "n=len(l)\n",
        "for i in range(n-1):\n",
        "  if l[i]>l[i+1]:\n",
        "    print(l)\n",
        "    aux=l[i+1]\n",
        "    l[i+1]=l[i]\n",
        "    l[i]=aux\n",
        "    print(l)"
      ],
      "metadata": {
        "id": "jT81ajg1H3le"
      },
      "execution_count": null,
      "outputs": []
    }
  ]
}